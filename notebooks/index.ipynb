{
 "metadata": {
  "name": "",
  "signature": "sha256:a182745926255d245a18ad24bf3ea7d3e79dd9656c4f52f7d5a4bc2c06d74bd7"
 },
 "nbformat": 3,
 "nbformat_minor": 0,
 "worksheets": [
  {
   "cells": [
    {
     "cell_type": "markdown",
     "metadata": {},
     "source": [
      "#Mixtures of Gaussian Processes with GPclust\n",
      "###James Hensman, November 2014\n",
      "Here are a few notebooks outlining the functionality of GPclust.\n",
      "\n",
      "The [homepage for GPclust](http://staffwww.dcs.sheffield.ac.uk/people/J.Hensman/gpclust.html) contains instructions for download, installation and citation. \n",
      "\n",
      "You may also be interested in reading some of the tutorials on [GPy](http://sheffieldml.github.io/GPy/), the Gaussian process framework that GPclust is built on."
     ]
    },
    {
     "cell_type": "markdown",
     "metadata": {},
     "source": [
      "##Mixtures of Gaussians\n",
      "The [MOG notebook](./mixture of Gaussians.ipynb) described how to use GPclust to infer a basic mixture of Gaussians model. This also illustrates some of the workings of GPclust such as the merge-split method, truncated Dirichlet priors and the setting of parameters.\n",
      "\n"
     ]
    },
    {
     "cell_type": "markdown",
     "metadata": {},
     "source": [
      "##Mixtures of Gaussian Processes\n",
      "The [first MOHGP notebook](./MOHGP_demo.ipynb) demonstrates using GPclust's MOHGP (Mixture of Hierarchical Gaussian Processes) class on a synthetic dataset. We show how to build the model, how to deal with the kernel (covariance function) parameteres, and basic plotting. \n",
      "\n",
      "The MOHGP model is Hierarhical because is uses a hierachy of GPs to model first the mean of the cluster, and then the deviation of each time-course in the cluster from that mean. You may be interested in the notebook on Hierarchical GPs in GPy, over at ??\n",
      "\n",
      "The next notebook illustates using [GPclust on the Drosphila](./drosophila.ipynb) data of Kalinka et al (2009)."
     ]
    },
    {
     "cell_type": "code",
     "collapsed": false,
     "input": [],
     "language": "python",
     "metadata": {},
     "outputs": []
    }
   ],
   "metadata": {}
  }
 ]
}